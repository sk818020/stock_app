{
 "cells": [
  {
   "cell_type": "code",
   "execution_count": 1,
   "metadata": {
    "collapsed": true
   },
   "outputs": [
    {
     "ename": "ImportError",
     "evalue": "DLL load failed while importing lib: The specified procedure could not be found.",
     "output_type": "error",
     "traceback": [
      "\u001B[1;31m---------------------------------------------------------------------------\u001B[0m",
      "\u001B[1;31mImportError\u001B[0m                               Traceback (most recent call last)",
      "Cell \u001B[1;32mIn[1], line 1\u001B[0m\n\u001B[1;32m----> 1\u001B[0m \u001B[38;5;28;01mimport\u001B[39;00m \u001B[38;5;21;01mstreamlit\u001B[39;00m \u001B[38;5;28;01mas\u001B[39;00m \u001B[38;5;21;01mst\u001B[39;00m\n",
      "File \u001B[1;32m~\\anaconda3\\lib\\site-packages\\streamlit\\__init__.py:56\u001B[0m\n\u001B[0;32m     53\u001B[0m \u001B[38;5;66;03m# Give the package a version.\u001B[39;00m\n\u001B[0;32m     54\u001B[0m __version__ \u001B[38;5;241m=\u001B[39m _STREAMLIT_VERSION_STRING\n\u001B[1;32m---> 56\u001B[0m \u001B[38;5;28;01mfrom\u001B[39;00m \u001B[38;5;21;01mstreamlit\u001B[39;00m\u001B[38;5;21;01m.\u001B[39;00m\u001B[38;5;21;01mdelta_generator\u001B[39;00m \u001B[38;5;28;01mimport\u001B[39;00m DeltaGenerator \u001B[38;5;28;01mas\u001B[39;00m _DeltaGenerator\n\u001B[0;32m     57\u001B[0m \u001B[38;5;28;01mfrom\u001B[39;00m \u001B[38;5;21;01mstreamlit\u001B[39;00m\u001B[38;5;21;01m.\u001B[39;00m\u001B[38;5;21;01mproto\u001B[39;00m\u001B[38;5;21;01m.\u001B[39;00m\u001B[38;5;21;01mRootContainer_pb2\u001B[39;00m \u001B[38;5;28;01mimport\u001B[39;00m RootContainer \u001B[38;5;28;01mas\u001B[39;00m _RootContainer\n\u001B[0;32m     58\u001B[0m \u001B[38;5;28;01mfrom\u001B[39;00m \u001B[38;5;21;01mstreamlit\u001B[39;00m\u001B[38;5;21;01m.\u001B[39;00m\u001B[38;5;21;01mruntime\u001B[39;00m\u001B[38;5;21;01m.\u001B[39;00m\u001B[38;5;21;01mcaching\u001B[39;00m \u001B[38;5;28;01mimport\u001B[39;00m (\n\u001B[0;32m     59\u001B[0m     cache_resource \u001B[38;5;28;01mas\u001B[39;00m _cache_resource,\n\u001B[0;32m     60\u001B[0m     cache_data \u001B[38;5;28;01mas\u001B[39;00m _cache_data,\n\u001B[0;32m     61\u001B[0m     experimental_singleton \u001B[38;5;28;01mas\u001B[39;00m _experimental_singleton,\n\u001B[0;32m     62\u001B[0m     experimental_memo \u001B[38;5;28;01mas\u001B[39;00m _experimental_memo,\n\u001B[0;32m     63\u001B[0m )\n",
      "File \u001B[1;32m~\\anaconda3\\lib\\site-packages\\streamlit\\delta_generator.py:37\u001B[0m\n\u001B[0;32m     34\u001B[0m \u001B[38;5;28;01mimport\u001B[39;00m \u001B[38;5;21;01mclick\u001B[39;00m\n\u001B[0;32m     35\u001B[0m \u001B[38;5;28;01mfrom\u001B[39;00m \u001B[38;5;21;01mtyping_extensions\u001B[39;00m \u001B[38;5;28;01mimport\u001B[39;00m Final, Literal\n\u001B[1;32m---> 37\u001B[0m \u001B[38;5;28;01mfrom\u001B[39;00m \u001B[38;5;21;01mstreamlit\u001B[39;00m \u001B[38;5;28;01mimport\u001B[39;00m config, cursor, env_util, logger, runtime, type_util, util\n\u001B[0;32m     38\u001B[0m \u001B[38;5;28;01mfrom\u001B[39;00m \u001B[38;5;21;01mstreamlit\u001B[39;00m\u001B[38;5;21;01m.\u001B[39;00m\u001B[38;5;21;01mcursor\u001B[39;00m \u001B[38;5;28;01mimport\u001B[39;00m Cursor\n\u001B[0;32m     39\u001B[0m \u001B[38;5;28;01mfrom\u001B[39;00m \u001B[38;5;21;01mstreamlit\u001B[39;00m\u001B[38;5;21;01m.\u001B[39;00m\u001B[38;5;21;01melements\u001B[39;00m\u001B[38;5;21;01m.\u001B[39;00m\u001B[38;5;21;01malert\u001B[39;00m \u001B[38;5;28;01mimport\u001B[39;00m AlertMixin\n",
      "File \u001B[1;32m~\\anaconda3\\lib\\site-packages\\streamlit\\cursor.py:18\u001B[0m\n\u001B[0;32m     15\u001B[0m \u001B[38;5;28;01mfrom\u001B[39;00m \u001B[38;5;21;01mtyping\u001B[39;00m \u001B[38;5;28;01mimport\u001B[39;00m Any, List, Optional, Tuple\n\u001B[0;32m     17\u001B[0m \u001B[38;5;28;01mfrom\u001B[39;00m \u001B[38;5;21;01mstreamlit\u001B[39;00m \u001B[38;5;28;01mimport\u001B[39;00m util\n\u001B[1;32m---> 18\u001B[0m \u001B[38;5;28;01mfrom\u001B[39;00m \u001B[38;5;21;01mstreamlit\u001B[39;00m\u001B[38;5;21;01m.\u001B[39;00m\u001B[38;5;21;01mruntime\u001B[39;00m\u001B[38;5;21;01m.\u001B[39;00m\u001B[38;5;21;01mscriptrunner\u001B[39;00m \u001B[38;5;28;01mimport\u001B[39;00m get_script_run_ctx\n\u001B[0;32m     21\u001B[0m \u001B[38;5;28;01mdef\u001B[39;00m \u001B[38;5;21mmake_delta_path\u001B[39m(\n\u001B[0;32m     22\u001B[0m     root_container: \u001B[38;5;28mint\u001B[39m, parent_path: Tuple[\u001B[38;5;28mint\u001B[39m, \u001B[38;5;241m.\u001B[39m\u001B[38;5;241m.\u001B[39m\u001B[38;5;241m.\u001B[39m], index: \u001B[38;5;28mint\u001B[39m\n\u001B[0;32m     23\u001B[0m ) \u001B[38;5;241m-\u001B[39m\u001B[38;5;241m>\u001B[39m List[\u001B[38;5;28mint\u001B[39m]:\n\u001B[0;32m     24\u001B[0m     delta_path \u001B[38;5;241m=\u001B[39m [root_container]\n",
      "File \u001B[1;32m~\\anaconda3\\lib\\site-packages\\streamlit\\runtime\\__init__.py:15\u001B[0m\n\u001B[0;32m      1\u001B[0m \u001B[38;5;66;03m# Copyright (c) Streamlit Inc. (2018-2022) Snowflake Inc. (2022)\u001B[39;00m\n\u001B[0;32m      2\u001B[0m \u001B[38;5;66;03m#\u001B[39;00m\n\u001B[0;32m      3\u001B[0m \u001B[38;5;66;03m# Licensed under the Apache License, Version 2.0 (the \"License\");\u001B[39;00m\n\u001B[1;32m   (...)\u001B[0m\n\u001B[0;32m     12\u001B[0m \u001B[38;5;66;03m# See the License for the specific language governing permissions and\u001B[39;00m\n\u001B[0;32m     13\u001B[0m \u001B[38;5;66;03m# limitations under the License.\u001B[39;00m\n\u001B[1;32m---> 15\u001B[0m \u001B[38;5;28;01mfrom\u001B[39;00m \u001B[38;5;21;01mstreamlit\u001B[39;00m\u001B[38;5;21;01m.\u001B[39;00m\u001B[38;5;21;01mruntime\u001B[39;00m\u001B[38;5;21;01m.\u001B[39;00m\u001B[38;5;21;01mruntime\u001B[39;00m \u001B[38;5;28;01mimport\u001B[39;00m Runtime, RuntimeConfig, RuntimeState\n\u001B[0;32m     16\u001B[0m \u001B[38;5;28;01mfrom\u001B[39;00m \u001B[38;5;21;01mstreamlit\u001B[39;00m\u001B[38;5;21;01m.\u001B[39;00m\u001B[38;5;21;01mruntime\u001B[39;00m\u001B[38;5;21;01m.\u001B[39;00m\u001B[38;5;21;01msession_manager\u001B[39;00m \u001B[38;5;28;01mimport\u001B[39;00m (\n\u001B[0;32m     17\u001B[0m     SessionClient,\n\u001B[0;32m     18\u001B[0m     SessionClientDisconnectedError,\n\u001B[0;32m     19\u001B[0m )\n\u001B[0;32m     22\u001B[0m \u001B[38;5;28;01mdef\u001B[39;00m \u001B[38;5;21mget_instance\u001B[39m() \u001B[38;5;241m-\u001B[39m\u001B[38;5;241m>\u001B[39m Runtime:\n",
      "File \u001B[1;32m~\\anaconda3\\lib\\site-packages\\streamlit\\runtime\\runtime.py:30\u001B[0m\n\u001B[0;32m     28\u001B[0m \u001B[38;5;28;01mfrom\u001B[39;00m \u001B[38;5;21;01mstreamlit\u001B[39;00m\u001B[38;5;21;01m.\u001B[39;00m\u001B[38;5;21;01mproto\u001B[39;00m\u001B[38;5;21;01m.\u001B[39;00m\u001B[38;5;21;01mBackMsg_pb2\u001B[39;00m \u001B[38;5;28;01mimport\u001B[39;00m BackMsg\n\u001B[0;32m     29\u001B[0m \u001B[38;5;28;01mfrom\u001B[39;00m \u001B[38;5;21;01mstreamlit\u001B[39;00m\u001B[38;5;21;01m.\u001B[39;00m\u001B[38;5;21;01mproto\u001B[39;00m\u001B[38;5;21;01m.\u001B[39;00m\u001B[38;5;21;01mForwardMsg_pb2\u001B[39;00m \u001B[38;5;28;01mimport\u001B[39;00m ForwardMsg\n\u001B[1;32m---> 30\u001B[0m \u001B[38;5;28;01mfrom\u001B[39;00m \u001B[38;5;21;01mstreamlit\u001B[39;00m\u001B[38;5;21;01m.\u001B[39;00m\u001B[38;5;21;01mruntime\u001B[39;00m\u001B[38;5;21;01m.\u001B[39;00m\u001B[38;5;21;01mapp_session\u001B[39;00m \u001B[38;5;28;01mimport\u001B[39;00m AppSession\n\u001B[0;32m     31\u001B[0m \u001B[38;5;28;01mfrom\u001B[39;00m \u001B[38;5;21;01mstreamlit\u001B[39;00m\u001B[38;5;21;01m.\u001B[39;00m\u001B[38;5;21;01mruntime\u001B[39;00m\u001B[38;5;21;01m.\u001B[39;00m\u001B[38;5;21;01mcaching\u001B[39;00m \u001B[38;5;28;01mimport\u001B[39;00m (\n\u001B[0;32m     32\u001B[0m     get_data_cache_stats_provider,\n\u001B[0;32m     33\u001B[0m     get_resource_cache_stats_provider,\n\u001B[0;32m     34\u001B[0m )\n\u001B[0;32m     35\u001B[0m \u001B[38;5;28;01mfrom\u001B[39;00m \u001B[38;5;21;01mstreamlit\u001B[39;00m\u001B[38;5;21;01m.\u001B[39;00m\u001B[38;5;21;01mruntime\u001B[39;00m\u001B[38;5;21;01m.\u001B[39;00m\u001B[38;5;21;01mcaching\u001B[39;00m\u001B[38;5;21;01m.\u001B[39;00m\u001B[38;5;21;01mstorage\u001B[39;00m\u001B[38;5;21;01m.\u001B[39;00m\u001B[38;5;21;01mlocal_disk_cache_storage\u001B[39;00m \u001B[38;5;28;01mimport\u001B[39;00m (\n\u001B[0;32m     36\u001B[0m     LocalDiskCacheStorageManager,\n\u001B[0;32m     37\u001B[0m )\n",
      "File \u001B[1;32m~\\anaconda3\\lib\\site-packages\\streamlit\\runtime\\app_session.py:36\u001B[0m\n\u001B[0;32m     29\u001B[0m \u001B[38;5;28;01mfrom\u001B[39;00m \u001B[38;5;21;01mstreamlit\u001B[39;00m\u001B[38;5;21;01m.\u001B[39;00m\u001B[38;5;21;01mproto\u001B[39;00m\u001B[38;5;21;01m.\u001B[39;00m\u001B[38;5;21;01mNewSession_pb2\u001B[39;00m \u001B[38;5;28;01mimport\u001B[39;00m (\n\u001B[0;32m     30\u001B[0m     Config,\n\u001B[0;32m     31\u001B[0m     CustomThemeConfig,\n\u001B[0;32m     32\u001B[0m     NewSession,\n\u001B[0;32m     33\u001B[0m     UserInfo,\n\u001B[0;32m     34\u001B[0m )\n\u001B[0;32m     35\u001B[0m \u001B[38;5;28;01mfrom\u001B[39;00m \u001B[38;5;21;01mstreamlit\u001B[39;00m\u001B[38;5;21;01m.\u001B[39;00m\u001B[38;5;21;01mproto\u001B[39;00m\u001B[38;5;21;01m.\u001B[39;00m\u001B[38;5;21;01mPagesChanged_pb2\u001B[39;00m \u001B[38;5;28;01mimport\u001B[39;00m PagesChanged\n\u001B[1;32m---> 36\u001B[0m \u001B[38;5;28;01mfrom\u001B[39;00m \u001B[38;5;21;01mstreamlit\u001B[39;00m\u001B[38;5;21;01m.\u001B[39;00m\u001B[38;5;21;01mruntime\u001B[39;00m \u001B[38;5;28;01mimport\u001B[39;00m caching, legacy_caching\n\u001B[0;32m     37\u001B[0m \u001B[38;5;28;01mfrom\u001B[39;00m \u001B[38;5;21;01mstreamlit\u001B[39;00m\u001B[38;5;21;01m.\u001B[39;00m\u001B[38;5;21;01mruntime\u001B[39;00m\u001B[38;5;21;01m.\u001B[39;00m\u001B[38;5;21;01mforward_msg_queue\u001B[39;00m \u001B[38;5;28;01mimport\u001B[39;00m ForwardMsgQueue\n\u001B[0;32m     38\u001B[0m \u001B[38;5;28;01mfrom\u001B[39;00m \u001B[38;5;21;01mstreamlit\u001B[39;00m\u001B[38;5;21;01m.\u001B[39;00m\u001B[38;5;21;01mruntime\u001B[39;00m\u001B[38;5;21;01m.\u001B[39;00m\u001B[38;5;21;01mmetrics_util\u001B[39;00m \u001B[38;5;28;01mimport\u001B[39;00m Installation\n",
      "File \u001B[1;32m~\\anaconda3\\lib\\site-packages\\streamlit\\runtime\\caching\\__init__.py:21\u001B[0m\n\u001B[0;32m     18\u001B[0m \u001B[38;5;28;01mfrom\u001B[39;00m \u001B[38;5;21;01mgoogle\u001B[39;00m\u001B[38;5;21;01m.\u001B[39;00m\u001B[38;5;21;01mprotobuf\u001B[39;00m\u001B[38;5;21;01m.\u001B[39;00m\u001B[38;5;21;01mmessage\u001B[39;00m \u001B[38;5;28;01mimport\u001B[39;00m Message\n\u001B[0;32m     20\u001B[0m \u001B[38;5;28;01mfrom\u001B[39;00m \u001B[38;5;21;01mstreamlit\u001B[39;00m\u001B[38;5;21;01m.\u001B[39;00m\u001B[38;5;21;01mproto\u001B[39;00m\u001B[38;5;21;01m.\u001B[39;00m\u001B[38;5;21;01mBlock_pb2\u001B[39;00m \u001B[38;5;28;01mimport\u001B[39;00m Block\n\u001B[1;32m---> 21\u001B[0m \u001B[38;5;28;01mfrom\u001B[39;00m \u001B[38;5;21;01mstreamlit\u001B[39;00m\u001B[38;5;21;01m.\u001B[39;00m\u001B[38;5;21;01mruntime\u001B[39;00m\u001B[38;5;21;01m.\u001B[39;00m\u001B[38;5;21;01mcaching\u001B[39;00m\u001B[38;5;21;01m.\u001B[39;00m\u001B[38;5;21;01mcache_data_api\u001B[39;00m \u001B[38;5;28;01mimport\u001B[39;00m (\n\u001B[0;32m     22\u001B[0m     CACHE_DATA_MESSAGE_REPLAY_CTX,\n\u001B[0;32m     23\u001B[0m     CacheDataAPI,\n\u001B[0;32m     24\u001B[0m     _data_caches,\n\u001B[0;32m     25\u001B[0m )\n\u001B[0;32m     26\u001B[0m \u001B[38;5;28;01mfrom\u001B[39;00m \u001B[38;5;21;01mstreamlit\u001B[39;00m\u001B[38;5;21;01m.\u001B[39;00m\u001B[38;5;21;01mruntime\u001B[39;00m\u001B[38;5;21;01m.\u001B[39;00m\u001B[38;5;21;01mcaching\u001B[39;00m\u001B[38;5;21;01m.\u001B[39;00m\u001B[38;5;21;01mcache_errors\u001B[39;00m \u001B[38;5;28;01mimport\u001B[39;00m CACHE_DOCS_URL\n\u001B[0;32m     27\u001B[0m \u001B[38;5;28;01mfrom\u001B[39;00m \u001B[38;5;21;01mstreamlit\u001B[39;00m\u001B[38;5;21;01m.\u001B[39;00m\u001B[38;5;21;01mruntime\u001B[39;00m\u001B[38;5;21;01m.\u001B[39;00m\u001B[38;5;21;01mcaching\u001B[39;00m\u001B[38;5;21;01m.\u001B[39;00m\u001B[38;5;21;01mcache_resource_api\u001B[39;00m \u001B[38;5;28;01mimport\u001B[39;00m (\n\u001B[0;32m     28\u001B[0m     CACHE_RESOURCE_MESSAGE_REPLAY_CTX,\n\u001B[0;32m     29\u001B[0m     CacheResourceAPI,\n\u001B[0;32m     30\u001B[0m     _resource_caches,\n\u001B[0;32m     31\u001B[0m )\n",
      "File \u001B[1;32m~\\anaconda3\\lib\\site-packages\\streamlit\\runtime\\caching\\cache_data_api.py:32\u001B[0m\n\u001B[0;32m     30\u001B[0m \u001B[38;5;28;01mfrom\u001B[39;00m \u001B[38;5;21;01mstreamlit\u001B[39;00m\u001B[38;5;21;01m.\u001B[39;00m\u001B[38;5;21;01merrors\u001B[39;00m \u001B[38;5;28;01mimport\u001B[39;00m StreamlitAPIException\n\u001B[0;32m     31\u001B[0m \u001B[38;5;28;01mfrom\u001B[39;00m \u001B[38;5;21;01mstreamlit\u001B[39;00m\u001B[38;5;21;01m.\u001B[39;00m\u001B[38;5;21;01mlogger\u001B[39;00m \u001B[38;5;28;01mimport\u001B[39;00m get_logger\n\u001B[1;32m---> 32\u001B[0m \u001B[38;5;28;01mfrom\u001B[39;00m \u001B[38;5;21;01mstreamlit\u001B[39;00m\u001B[38;5;21;01m.\u001B[39;00m\u001B[38;5;21;01mruntime\u001B[39;00m\u001B[38;5;21;01m.\u001B[39;00m\u001B[38;5;21;01mcaching\u001B[39;00m\u001B[38;5;21;01m.\u001B[39;00m\u001B[38;5;21;01mcache_errors\u001B[39;00m \u001B[38;5;28;01mimport\u001B[39;00m CacheError, CacheKeyNotFoundError\n\u001B[0;32m     33\u001B[0m \u001B[38;5;28;01mfrom\u001B[39;00m \u001B[38;5;21;01mstreamlit\u001B[39;00m\u001B[38;5;21;01m.\u001B[39;00m\u001B[38;5;21;01mruntime\u001B[39;00m\u001B[38;5;21;01m.\u001B[39;00m\u001B[38;5;21;01mcaching\u001B[39;00m\u001B[38;5;21;01m.\u001B[39;00m\u001B[38;5;21;01mcache_type\u001B[39;00m \u001B[38;5;28;01mimport\u001B[39;00m CacheType\n\u001B[0;32m     34\u001B[0m \u001B[38;5;28;01mfrom\u001B[39;00m \u001B[38;5;21;01mstreamlit\u001B[39;00m\u001B[38;5;21;01m.\u001B[39;00m\u001B[38;5;21;01mruntime\u001B[39;00m\u001B[38;5;21;01m.\u001B[39;00m\u001B[38;5;21;01mcaching\u001B[39;00m\u001B[38;5;21;01m.\u001B[39;00m\u001B[38;5;21;01mcache_utils\u001B[39;00m \u001B[38;5;28;01mimport\u001B[39;00m (\n\u001B[0;32m     35\u001B[0m     Cache,\n\u001B[0;32m     36\u001B[0m     CachedFuncInfo,\n\u001B[0;32m     37\u001B[0m     make_cached_func_wrapper,\n\u001B[0;32m     38\u001B[0m     ttl_to_seconds,\n\u001B[0;32m     39\u001B[0m )\n",
      "File \u001B[1;32m~\\anaconda3\\lib\\site-packages\\streamlit\\runtime\\caching\\cache_errors.py:18\u001B[0m\n\u001B[0;32m     15\u001B[0m \u001B[38;5;28;01mimport\u001B[39;00m \u001B[38;5;21;01mtypes\u001B[39;00m\n\u001B[0;32m     16\u001B[0m \u001B[38;5;28;01mfrom\u001B[39;00m \u001B[38;5;21;01mtyping\u001B[39;00m \u001B[38;5;28;01mimport\u001B[39;00m Any, Optional\n\u001B[1;32m---> 18\u001B[0m \u001B[38;5;28;01mfrom\u001B[39;00m \u001B[38;5;21;01mstreamlit\u001B[39;00m \u001B[38;5;28;01mimport\u001B[39;00m type_util\n\u001B[0;32m     19\u001B[0m \u001B[38;5;28;01mfrom\u001B[39;00m \u001B[38;5;21;01mstreamlit\u001B[39;00m\u001B[38;5;21;01m.\u001B[39;00m\u001B[38;5;21;01merrors\u001B[39;00m \u001B[38;5;28;01mimport\u001B[39;00m (\n\u001B[0;32m     20\u001B[0m     MarkdownFormattedException,\n\u001B[0;32m     21\u001B[0m     StreamlitAPIException,\n\u001B[0;32m     22\u001B[0m     StreamlitAPIWarning,\n\u001B[0;32m     23\u001B[0m )\n\u001B[0;32m     24\u001B[0m \u001B[38;5;28;01mfrom\u001B[39;00m \u001B[38;5;21;01mstreamlit\u001B[39;00m\u001B[38;5;21;01m.\u001B[39;00m\u001B[38;5;21;01mruntime\u001B[39;00m\u001B[38;5;21;01m.\u001B[39;00m\u001B[38;5;21;01mcaching\u001B[39;00m\u001B[38;5;21;01m.\u001B[39;00m\u001B[38;5;21;01mcache_type\u001B[39;00m \u001B[38;5;28;01mimport\u001B[39;00m CacheType, get_decorator_api_name\n",
      "File \u001B[1;32m~\\anaconda3\\lib\\site-packages\\streamlit\\type_util.py:43\u001B[0m\n\u001B[0;32m     24\u001B[0m \u001B[38;5;28;01mfrom\u001B[39;00m \u001B[38;5;21;01mtyping\u001B[39;00m \u001B[38;5;28;01mimport\u001B[39;00m (\n\u001B[0;32m     25\u001B[0m     TYPE_CHECKING,\n\u001B[0;32m     26\u001B[0m     Any,\n\u001B[1;32m   (...)\u001B[0m\n\u001B[0;32m     39\u001B[0m     overload,\n\u001B[0;32m     40\u001B[0m )\n\u001B[0;32m     42\u001B[0m \u001B[38;5;28;01mimport\u001B[39;00m \u001B[38;5;21;01mnumpy\u001B[39;00m \u001B[38;5;28;01mas\u001B[39;00m \u001B[38;5;21;01mnp\u001B[39;00m\n\u001B[1;32m---> 43\u001B[0m \u001B[38;5;28;01mimport\u001B[39;00m \u001B[38;5;21;01mpyarrow\u001B[39;00m \u001B[38;5;28;01mas\u001B[39;00m \u001B[38;5;21;01mpa\u001B[39;00m\n\u001B[0;32m     44\u001B[0m \u001B[38;5;28;01mfrom\u001B[39;00m \u001B[38;5;21;01mpandas\u001B[39;00m \u001B[38;5;28;01mimport\u001B[39;00m DataFrame, Index, MultiIndex, Series\n\u001B[0;32m     45\u001B[0m \u001B[38;5;28;01mfrom\u001B[39;00m \u001B[38;5;21;01mpandas\u001B[39;00m\u001B[38;5;21;01m.\u001B[39;00m\u001B[38;5;21;01mapi\u001B[39;00m\u001B[38;5;21;01m.\u001B[39;00m\u001B[38;5;21;01mtypes\u001B[39;00m \u001B[38;5;28;01mimport\u001B[39;00m infer_dtype, is_dict_like, is_list_like\n",
      "File \u001B[1;32m~\\anaconda3\\lib\\site-packages\\pyarrow\\__init__.py:65\u001B[0m\n\u001B[0;32m     63\u001B[0m _gc_enabled \u001B[38;5;241m=\u001B[39m _gc\u001B[38;5;241m.\u001B[39misenabled()\n\u001B[0;32m     64\u001B[0m _gc\u001B[38;5;241m.\u001B[39mdisable()\n\u001B[1;32m---> 65\u001B[0m \u001B[38;5;28;01mimport\u001B[39;00m \u001B[38;5;21;01mpyarrow\u001B[39;00m\u001B[38;5;21;01m.\u001B[39;00m\u001B[38;5;21;01mlib\u001B[39;00m \u001B[38;5;28;01mas\u001B[39;00m \u001B[38;5;21;01m_lib\u001B[39;00m\n\u001B[0;32m     66\u001B[0m \u001B[38;5;28;01mif\u001B[39;00m _gc_enabled:\n\u001B[0;32m     67\u001B[0m     _gc\u001B[38;5;241m.\u001B[39menable()\n",
      "\u001B[1;31mImportError\u001B[0m: DLL load failed while importing lib: The specified procedure could not be found."
     ]
    }
   ],
   "source": [
    "import streamlit as st"
   ]
  },
  {
   "cell_type": "code",
   "execution_count": 20,
   "outputs": [],
   "source": [
    "import yfinance as yf"
   ],
   "metadata": {
    "collapsed": false,
    "ExecuteTime": {
     "start_time": "2024-01-08T15:24:37.583602Z",
     "end_time": "2024-01-08T15:24:37.598607Z"
    }
   }
  },
  {
   "cell_type": "code",
   "execution_count": 21,
   "outputs": [],
   "source": [
    "xom = yf.Ticker('xom')"
   ],
   "metadata": {
    "collapsed": false,
    "ExecuteTime": {
     "start_time": "2024-01-08T15:24:38.731596Z",
     "end_time": "2024-01-08T15:24:38.746596Z"
    }
   }
  },
  {
   "cell_type": "code",
   "execution_count": 27,
   "outputs": [
    {
     "ename": "TypeError",
     "evalue": "unsupported operand type(s) for -: 'datetime.datetime' and 'str'",
     "output_type": "error",
     "traceback": [
      "\u001B[1;31m---------------------------------------------------------------------------\u001B[0m",
      "\u001B[1;31mTypeError\u001B[0m                                 Traceback (most recent call last)",
      "Cell \u001B[1;32mIn[27], line 1\u001B[0m\n\u001B[1;32m----> 1\u001B[0m \u001B[38;5;28mtype\u001B[39m(\u001B[43mxom\u001B[49m\u001B[38;5;241;43m.\u001B[39;49m\u001B[43mnews\u001B[49m(datetime\u001B[38;5;241m.\u001B[39mdatetime\u001B[38;5;241m.\u001B[39mtoday()\u001B[38;5;241m.\u001B[39mstrftime(\u001B[38;5;124m'\u001B[39m\u001B[38;5;124m%\u001B[39m\u001B[38;5;124mY-\u001B[39m\u001B[38;5;124m%\u001B[39m\u001B[38;5;124mm-\u001B[39m\u001B[38;5;132;01m%d\u001B[39;00m\u001B[38;5;124m'\u001B[39m)))\n",
      "File \u001B[1;32m~\\anaconda3\\lib\\site-packages\\yfinance\\ticker.py:244\u001B[0m, in \u001B[0;36mTicker.news\u001B[1;34m(self)\u001B[0m\n\u001B[0;32m    242\u001B[0m \u001B[38;5;129m@property\u001B[39m\n\u001B[0;32m    243\u001B[0m \u001B[38;5;28;01mdef\u001B[39;00m \u001B[38;5;21mnews\u001B[39m(\u001B[38;5;28mself\u001B[39m):\n\u001B[1;32m--> 244\u001B[0m     \u001B[38;5;28;01mreturn\u001B[39;00m \u001B[38;5;28;43mself\u001B[39;49m\u001B[38;5;241;43m.\u001B[39;49m\u001B[43mget_news\u001B[49m\u001B[43m(\u001B[49m\u001B[43m)\u001B[49m\n",
      "File \u001B[1;32m~\\anaconda3\\lib\\site-packages\\yfinance\\base.py:2053\u001B[0m, in \u001B[0;36mTickerBase.get_news\u001B[1;34m(self, proxy)\u001B[0m\n\u001B[0;32m   2051\u001B[0m \u001B[38;5;66;03m# Getting data from json\u001B[39;00m\n\u001B[0;32m   2052\u001B[0m url \u001B[38;5;241m=\u001B[39m \u001B[38;5;124mf\u001B[39m\u001B[38;5;124m\"\u001B[39m\u001B[38;5;132;01m{\u001B[39;00m\u001B[38;5;28mself\u001B[39m\u001B[38;5;241m.\u001B[39m_base_url\u001B[38;5;132;01m}\u001B[39;00m\u001B[38;5;124m/v1/finance/search?q=\u001B[39m\u001B[38;5;132;01m{\u001B[39;00m\u001B[38;5;28mself\u001B[39m\u001B[38;5;241m.\u001B[39mticker\u001B[38;5;132;01m}\u001B[39;00m\u001B[38;5;124m\"\u001B[39m\n\u001B[1;32m-> 2053\u001B[0m data \u001B[38;5;241m=\u001B[39m \u001B[38;5;28;43mself\u001B[39;49m\u001B[38;5;241;43m.\u001B[39;49m\u001B[43m_data\u001B[49m\u001B[38;5;241;43m.\u001B[39;49m\u001B[43mcache_get\u001B[49m\u001B[43m(\u001B[49m\u001B[43murl\u001B[49m\u001B[38;5;241;43m=\u001B[39;49m\u001B[43murl\u001B[49m\u001B[43m,\u001B[49m\u001B[43m \u001B[49m\u001B[43mproxy\u001B[49m\u001B[38;5;241;43m=\u001B[39;49m\u001B[43mproxy\u001B[49m\u001B[43m)\u001B[49m\n\u001B[0;32m   2054\u001B[0m \u001B[38;5;28;01mif\u001B[39;00m \u001B[38;5;124m\"\u001B[39m\u001B[38;5;124mWill be right back\u001B[39m\u001B[38;5;124m\"\u001B[39m \u001B[38;5;129;01min\u001B[39;00m data\u001B[38;5;241m.\u001B[39mtext:\n\u001B[0;32m   2055\u001B[0m     \u001B[38;5;28;01mraise\u001B[39;00m \u001B[38;5;167;01mRuntimeError\u001B[39;00m(\u001B[38;5;124m\"\u001B[39m\u001B[38;5;124m*** YAHOO! FINANCE IS CURRENTLY DOWN! ***\u001B[39m\u001B[38;5;130;01m\\n\u001B[39;00m\u001B[38;5;124m\"\u001B[39m\n\u001B[0;32m   2056\u001B[0m                        \u001B[38;5;124m\"\u001B[39m\u001B[38;5;124mOur engineers are working quickly to resolve \u001B[39m\u001B[38;5;124m\"\u001B[39m\n\u001B[0;32m   2057\u001B[0m                        \u001B[38;5;124m\"\u001B[39m\u001B[38;5;124mthe issue. Thank you for your patience.\u001B[39m\u001B[38;5;124m\"\u001B[39m)\n",
      "File \u001B[1;32m~\\anaconda3\\lib\\site-packages\\yfinance\\data.py:27\u001B[0m, in \u001B[0;36mlru_cache_freezeargs.<locals>.wrapped\u001B[1;34m(*args, **kwargs)\u001B[0m\n\u001B[0;32m     25\u001B[0m args \u001B[38;5;241m=\u001B[39m \u001B[38;5;28mtuple\u001B[39m([\u001B[38;5;28mtuple\u001B[39m(arg) \u001B[38;5;28;01mif\u001B[39;00m \u001B[38;5;28misinstance\u001B[39m(arg, \u001B[38;5;28mlist\u001B[39m) \u001B[38;5;28;01melse\u001B[39;00m arg \u001B[38;5;28;01mfor\u001B[39;00m arg \u001B[38;5;129;01min\u001B[39;00m args])\n\u001B[0;32m     26\u001B[0m kwargs \u001B[38;5;241m=\u001B[39m {k: \u001B[38;5;28mtuple\u001B[39m(v) \u001B[38;5;28;01mif\u001B[39;00m \u001B[38;5;28misinstance\u001B[39m(v, \u001B[38;5;28mlist\u001B[39m) \u001B[38;5;28;01melse\u001B[39;00m v \u001B[38;5;28;01mfor\u001B[39;00m k, v \u001B[38;5;129;01min\u001B[39;00m kwargs\u001B[38;5;241m.\u001B[39mitems()}\n\u001B[1;32m---> 27\u001B[0m \u001B[38;5;28;01mreturn\u001B[39;00m func(\u001B[38;5;241m*\u001B[39margs, \u001B[38;5;241m*\u001B[39m\u001B[38;5;241m*\u001B[39mkwargs)\n",
      "File \u001B[1;32m~\\anaconda3\\lib\\site-packages\\yfinance\\data.py:387\u001B[0m, in \u001B[0;36mYfData.cache_get\u001B[1;34m(self, url, user_agent_headers, params, proxy, timeout)\u001B[0m\n\u001B[0;32m    384\u001B[0m \u001B[38;5;129m@lru_cache_freezeargs\u001B[39m\n\u001B[0;32m    385\u001B[0m \u001B[38;5;129m@lru_cache\u001B[39m(maxsize\u001B[38;5;241m=\u001B[39mcache_maxsize)\n\u001B[0;32m    386\u001B[0m \u001B[38;5;28;01mdef\u001B[39;00m \u001B[38;5;21mcache_get\u001B[39m(\u001B[38;5;28mself\u001B[39m, url, user_agent_headers\u001B[38;5;241m=\u001B[39m\u001B[38;5;28;01mNone\u001B[39;00m, params\u001B[38;5;241m=\u001B[39m\u001B[38;5;28;01mNone\u001B[39;00m, proxy\u001B[38;5;241m=\u001B[39m\u001B[38;5;28;01mNone\u001B[39;00m, timeout\u001B[38;5;241m=\u001B[39m\u001B[38;5;241m30\u001B[39m):\n\u001B[1;32m--> 387\u001B[0m     \u001B[38;5;28;01mreturn\u001B[39;00m \u001B[38;5;28;43mself\u001B[39;49m\u001B[38;5;241;43m.\u001B[39;49m\u001B[43mget\u001B[49m\u001B[43m(\u001B[49m\u001B[43murl\u001B[49m\u001B[43m,\u001B[49m\u001B[43m \u001B[49m\u001B[43muser_agent_headers\u001B[49m\u001B[43m,\u001B[49m\u001B[43m \u001B[49m\u001B[43mparams\u001B[49m\u001B[43m,\u001B[49m\u001B[43m \u001B[49m\u001B[43mproxy\u001B[49m\u001B[43m,\u001B[49m\u001B[43m \u001B[49m\u001B[43mtimeout\u001B[49m\u001B[43m)\u001B[49m\n",
      "File \u001B[1;32m~\\anaconda3\\lib\\site-packages\\yfinance\\utils.py:108\u001B[0m, in \u001B[0;36mlog_indent_decorator.<locals>.wrapper\u001B[1;34m(*args, **kwargs)\u001B[0m\n\u001B[0;32m    105\u001B[0m logger\u001B[38;5;241m.\u001B[39mdebug(\u001B[38;5;124mf\u001B[39m\u001B[38;5;124m'\u001B[39m\u001B[38;5;124mEntering \u001B[39m\u001B[38;5;132;01m{\u001B[39;00mfunc\u001B[38;5;241m.\u001B[39m\u001B[38;5;18m__name__\u001B[39m\u001B[38;5;132;01m}\u001B[39;00m\u001B[38;5;124m()\u001B[39m\u001B[38;5;124m'\u001B[39m)\n\u001B[0;32m    107\u001B[0m \u001B[38;5;28;01mwith\u001B[39;00m IndentationContext():\n\u001B[1;32m--> 108\u001B[0m     result \u001B[38;5;241m=\u001B[39m func(\u001B[38;5;241m*\u001B[39margs, \u001B[38;5;241m*\u001B[39m\u001B[38;5;241m*\u001B[39mkwargs)\n\u001B[0;32m    110\u001B[0m logger\u001B[38;5;241m.\u001B[39mdebug(\u001B[38;5;124mf\u001B[39m\u001B[38;5;124m'\u001B[39m\u001B[38;5;124mExiting \u001B[39m\u001B[38;5;132;01m{\u001B[39;00mfunc\u001B[38;5;241m.\u001B[39m\u001B[38;5;18m__name__\u001B[39m\u001B[38;5;132;01m}\u001B[39;00m\u001B[38;5;124m()\u001B[39m\u001B[38;5;124m'\u001B[39m)\n\u001B[0;32m    111\u001B[0m \u001B[38;5;28;01mreturn\u001B[39;00m result\n",
      "File \u001B[1;32m~\\anaconda3\\lib\\site-packages\\yfinance\\data.py:348\u001B[0m, in \u001B[0;36mYfData.get\u001B[1;34m(self, url, user_agent_headers, params, proxy, timeout)\u001B[0m\n\u001B[0;32m    345\u001B[0m \u001B[38;5;28;01mif\u001B[39;00m \u001B[38;5;124m'\u001B[39m\u001B[38;5;124mcrumb\u001B[39m\u001B[38;5;124m'\u001B[39m \u001B[38;5;129;01min\u001B[39;00m params:\n\u001B[0;32m    346\u001B[0m     \u001B[38;5;28;01mraise\u001B[39;00m \u001B[38;5;167;01mException\u001B[39;00m(\u001B[38;5;124m\"\u001B[39m\u001B[38;5;124mDon\u001B[39m\u001B[38;5;124m'\u001B[39m\u001B[38;5;124mt manually add \u001B[39m\u001B[38;5;124m'\u001B[39m\u001B[38;5;124mcrumb\u001B[39m\u001B[38;5;124m'\u001B[39m\u001B[38;5;124m to params dict, let data.py handle it\u001B[39m\u001B[38;5;124m\"\u001B[39m)\n\u001B[1;32m--> 348\u001B[0m cookie, crumb, strategy \u001B[38;5;241m=\u001B[39m \u001B[38;5;28;43mself\u001B[39;49m\u001B[38;5;241;43m.\u001B[39;49m\u001B[43m_get_cookie_and_crumb\u001B[49m\u001B[43m(\u001B[49m\u001B[43m)\u001B[49m\n\u001B[0;32m    349\u001B[0m \u001B[38;5;28;01mif\u001B[39;00m crumb \u001B[38;5;129;01mis\u001B[39;00m \u001B[38;5;129;01mnot\u001B[39;00m \u001B[38;5;28;01mNone\u001B[39;00m:\n\u001B[0;32m    350\u001B[0m     crumbs \u001B[38;5;241m=\u001B[39m {\u001B[38;5;124m'\u001B[39m\u001B[38;5;124mcrumb\u001B[39m\u001B[38;5;124m'\u001B[39m: crumb}\n",
      "File \u001B[1;32m~\\anaconda3\\lib\\site-packages\\yfinance\\utils.py:108\u001B[0m, in \u001B[0;36mlog_indent_decorator.<locals>.wrapper\u001B[1;34m(*args, **kwargs)\u001B[0m\n\u001B[0;32m    105\u001B[0m logger\u001B[38;5;241m.\u001B[39mdebug(\u001B[38;5;124mf\u001B[39m\u001B[38;5;124m'\u001B[39m\u001B[38;5;124mEntering \u001B[39m\u001B[38;5;132;01m{\u001B[39;00mfunc\u001B[38;5;241m.\u001B[39m\u001B[38;5;18m__name__\u001B[39m\u001B[38;5;132;01m}\u001B[39;00m\u001B[38;5;124m()\u001B[39m\u001B[38;5;124m'\u001B[39m)\n\u001B[0;32m    107\u001B[0m \u001B[38;5;28;01mwith\u001B[39;00m IndentationContext():\n\u001B[1;32m--> 108\u001B[0m     result \u001B[38;5;241m=\u001B[39m func(\u001B[38;5;241m*\u001B[39margs, \u001B[38;5;241m*\u001B[39m\u001B[38;5;241m*\u001B[39mkwargs)\n\u001B[0;32m    110\u001B[0m logger\u001B[38;5;241m.\u001B[39mdebug(\u001B[38;5;124mf\u001B[39m\u001B[38;5;124m'\u001B[39m\u001B[38;5;124mExiting \u001B[39m\u001B[38;5;132;01m{\u001B[39;00mfunc\u001B[38;5;241m.\u001B[39m\u001B[38;5;18m__name__\u001B[39m\u001B[38;5;132;01m}\u001B[39;00m\u001B[38;5;124m()\u001B[39m\u001B[38;5;124m'\u001B[39m)\n\u001B[0;32m    111\u001B[0m \u001B[38;5;28;01mreturn\u001B[39;00m result\n",
      "File \u001B[1;32m~\\anaconda3\\lib\\site-packages\\yfinance\\data.py:324\u001B[0m, in \u001B[0;36mYfData._get_cookie_and_crumb\u001B[1;34m(self, proxy, timeout)\u001B[0m\n\u001B[0;32m    321\u001B[0m         cookie, crumb \u001B[38;5;241m=\u001B[39m \u001B[38;5;28mself\u001B[39m\u001B[38;5;241m.\u001B[39m_get_cookie_and_crumb_basic(proxy, timeout)\n\u001B[0;32m    322\u001B[0m \u001B[38;5;28;01melse\u001B[39;00m:\n\u001B[0;32m    323\u001B[0m     \u001B[38;5;66;03m# Fallback strategy\u001B[39;00m\n\u001B[1;32m--> 324\u001B[0m     cookie, crumb \u001B[38;5;241m=\u001B[39m \u001B[38;5;28;43mself\u001B[39;49m\u001B[38;5;241;43m.\u001B[39;49m\u001B[43m_get_cookie_and_crumb_basic\u001B[49m\u001B[43m(\u001B[49m\u001B[43mproxy\u001B[49m\u001B[43m,\u001B[49m\u001B[43m \u001B[49m\u001B[43mtimeout\u001B[49m\u001B[43m)\u001B[49m\n\u001B[0;32m    325\u001B[0m     \u001B[38;5;28;01mif\u001B[39;00m cookie \u001B[38;5;129;01mis\u001B[39;00m \u001B[38;5;28;01mNone\u001B[39;00m \u001B[38;5;129;01mor\u001B[39;00m crumb \u001B[38;5;129;01mis\u001B[39;00m \u001B[38;5;28;01mNone\u001B[39;00m:\n\u001B[0;32m    326\u001B[0m         \u001B[38;5;66;03m# Fail\u001B[39;00m\n\u001B[0;32m    327\u001B[0m         \u001B[38;5;28mself\u001B[39m\u001B[38;5;241m.\u001B[39m_set_cookie_strategy(\u001B[38;5;124m'\u001B[39m\u001B[38;5;124mcsrf\u001B[39m\u001B[38;5;124m'\u001B[39m, have_lock\u001B[38;5;241m=\u001B[39m\u001B[38;5;28;01mTrue\u001B[39;00m)\n",
      "File \u001B[1;32m~\\anaconda3\\lib\\site-packages\\yfinance\\utils.py:108\u001B[0m, in \u001B[0;36mlog_indent_decorator.<locals>.wrapper\u001B[1;34m(*args, **kwargs)\u001B[0m\n\u001B[0;32m    105\u001B[0m logger\u001B[38;5;241m.\u001B[39mdebug(\u001B[38;5;124mf\u001B[39m\u001B[38;5;124m'\u001B[39m\u001B[38;5;124mEntering \u001B[39m\u001B[38;5;132;01m{\u001B[39;00mfunc\u001B[38;5;241m.\u001B[39m\u001B[38;5;18m__name__\u001B[39m\u001B[38;5;132;01m}\u001B[39;00m\u001B[38;5;124m()\u001B[39m\u001B[38;5;124m'\u001B[39m)\n\u001B[0;32m    107\u001B[0m \u001B[38;5;28;01mwith\u001B[39;00m IndentationContext():\n\u001B[1;32m--> 108\u001B[0m     result \u001B[38;5;241m=\u001B[39m func(\u001B[38;5;241m*\u001B[39margs, \u001B[38;5;241m*\u001B[39m\u001B[38;5;241m*\u001B[39mkwargs)\n\u001B[0;32m    110\u001B[0m logger\u001B[38;5;241m.\u001B[39mdebug(\u001B[38;5;124mf\u001B[39m\u001B[38;5;124m'\u001B[39m\u001B[38;5;124mExiting \u001B[39m\u001B[38;5;132;01m{\u001B[39;00mfunc\u001B[38;5;241m.\u001B[39m\u001B[38;5;18m__name__\u001B[39m\u001B[38;5;132;01m}\u001B[39;00m\u001B[38;5;124m()\u001B[39m\u001B[38;5;124m'\u001B[39m)\n\u001B[0;32m    111\u001B[0m \u001B[38;5;28;01mreturn\u001B[39;00m result\n",
      "File \u001B[1;32m~\\anaconda3\\lib\\site-packages\\yfinance\\data.py:213\u001B[0m, in \u001B[0;36mYfData._get_cookie_and_crumb_basic\u001B[1;34m(self, proxy, timeout)\u001B[0m\n\u001B[0;32m    211\u001B[0m \u001B[38;5;129m@utils\u001B[39m\u001B[38;5;241m.\u001B[39mlog_indent_decorator\n\u001B[0;32m    212\u001B[0m \u001B[38;5;28;01mdef\u001B[39;00m \u001B[38;5;21m_get_cookie_and_crumb_basic\u001B[39m(\u001B[38;5;28mself\u001B[39m, proxy, timeout):\n\u001B[1;32m--> 213\u001B[0m     cookie \u001B[38;5;241m=\u001B[39m \u001B[38;5;28;43mself\u001B[39;49m\u001B[38;5;241;43m.\u001B[39;49m\u001B[43m_get_cookie_basic\u001B[49m\u001B[43m(\u001B[49m\u001B[43mproxy\u001B[49m\u001B[43m,\u001B[49m\u001B[43m \u001B[49m\u001B[43mtimeout\u001B[49m\u001B[43m)\u001B[49m\n\u001B[0;32m    214\u001B[0m     crumb \u001B[38;5;241m=\u001B[39m \u001B[38;5;28mself\u001B[39m\u001B[38;5;241m.\u001B[39m_get_crumb_basic(proxy, timeout)\n\u001B[0;32m    215\u001B[0m     \u001B[38;5;28;01mreturn\u001B[39;00m cookie, crumb\n",
      "File \u001B[1;32m~\\anaconda3\\lib\\site-packages\\yfinance\\data.py:156\u001B[0m, in \u001B[0;36mYfData._get_cookie_basic\u001B[1;34m(self, proxy, timeout)\u001B[0m\n\u001B[0;32m    153\u001B[0m     utils\u001B[38;5;241m.\u001B[39mget_yf_logger()\u001B[38;5;241m.\u001B[39mdebug(\u001B[38;5;124m'\u001B[39m\u001B[38;5;124mreusing cookie\u001B[39m\u001B[38;5;124m'\u001B[39m)\n\u001B[0;32m    154\u001B[0m     \u001B[38;5;28;01mreturn\u001B[39;00m \u001B[38;5;28mself\u001B[39m\u001B[38;5;241m.\u001B[39m_cookie\n\u001B[1;32m--> 156\u001B[0m \u001B[38;5;28mself\u001B[39m\u001B[38;5;241m.\u001B[39m_cookie \u001B[38;5;241m=\u001B[39m \u001B[38;5;28;43mself\u001B[39;49m\u001B[38;5;241;43m.\u001B[39;49m\u001B[43m_load_cookie_basic\u001B[49m\u001B[43m(\u001B[49m\u001B[43m)\u001B[49m\n\u001B[0;32m    157\u001B[0m \u001B[38;5;28;01mif\u001B[39;00m \u001B[38;5;28mself\u001B[39m\u001B[38;5;241m.\u001B[39m_cookie \u001B[38;5;129;01mis\u001B[39;00m \u001B[38;5;129;01mnot\u001B[39;00m \u001B[38;5;28;01mNone\u001B[39;00m:\n\u001B[0;32m    158\u001B[0m     \u001B[38;5;28;01mreturn\u001B[39;00m \u001B[38;5;28mself\u001B[39m\u001B[38;5;241m.\u001B[39m_cookie\n",
      "File \u001B[1;32m~\\anaconda3\\lib\\site-packages\\yfinance\\data.py:142\u001B[0m, in \u001B[0;36mYfData._load_cookie_basic\u001B[1;34m(self)\u001B[0m\n\u001B[0;32m    141\u001B[0m \u001B[38;5;28;01mdef\u001B[39;00m \u001B[38;5;21m_load_cookie_basic\u001B[39m(\u001B[38;5;28mself\u001B[39m):\n\u001B[1;32m--> 142\u001B[0m     cookie_dict \u001B[38;5;241m=\u001B[39m \u001B[43mcache\u001B[49m\u001B[38;5;241;43m.\u001B[39;49m\u001B[43mget_cookie_cache\u001B[49m\u001B[43m(\u001B[49m\u001B[43m)\u001B[49m\u001B[38;5;241;43m.\u001B[39;49m\u001B[43mlookup\u001B[49m\u001B[43m(\u001B[49m\u001B[38;5;124;43m'\u001B[39;49m\u001B[38;5;124;43mbasic\u001B[39;49m\u001B[38;5;124;43m'\u001B[39;49m\u001B[43m)\u001B[49m\n\u001B[0;32m    143\u001B[0m     \u001B[38;5;28;01mif\u001B[39;00m cookie_dict \u001B[38;5;129;01mis\u001B[39;00m \u001B[38;5;28;01mNone\u001B[39;00m:\n\u001B[0;32m    144\u001B[0m         \u001B[38;5;28;01mreturn\u001B[39;00m \u001B[38;5;28;01mNone\u001B[39;00m\n",
      "File \u001B[1;32m~\\anaconda3\\lib\\site-packages\\yfinance\\cache.py:362\u001B[0m, in \u001B[0;36m_CookieCache.lookup\u001B[1;34m(self, strategy)\u001B[0m\n\u001B[0;32m    360\u001B[0m     data \u001B[38;5;241m=\u001B[39m  _CookieSchema\u001B[38;5;241m.\u001B[39mget(_CookieSchema\u001B[38;5;241m.\u001B[39mstrategy \u001B[38;5;241m==\u001B[39m strategy)\n\u001B[0;32m    361\u001B[0m     cookie \u001B[38;5;241m=\u001B[39m _pkl\u001B[38;5;241m.\u001B[39mloads(data\u001B[38;5;241m.\u001B[39mcookie_bytes)\n\u001B[1;32m--> 362\u001B[0m     \u001B[38;5;28;01mreturn\u001B[39;00m {\u001B[38;5;124m'\u001B[39m\u001B[38;5;124mcookie\u001B[39m\u001B[38;5;124m'\u001B[39m:cookie, \u001B[38;5;124m'\u001B[39m\u001B[38;5;124mage\u001B[39m\u001B[38;5;124m'\u001B[39m:\u001B[43m_datetime\u001B[49m\u001B[38;5;241;43m.\u001B[39;49m\u001B[43mdatetime\u001B[49m\u001B[38;5;241;43m.\u001B[39;49m\u001B[43mnow\u001B[49m\u001B[43m(\u001B[49m\u001B[43m)\u001B[49m\u001B[38;5;241;43m-\u001B[39;49m\u001B[43mdata\u001B[49m\u001B[38;5;241;43m.\u001B[39;49m\u001B[43mfetch_date\u001B[49m}\n\u001B[0;32m    363\u001B[0m \u001B[38;5;28;01mexcept\u001B[39;00m _CookieSchema\u001B[38;5;241m.\u001B[39mDoesNotExist:\n\u001B[0;32m    364\u001B[0m     \u001B[38;5;28;01mreturn\u001B[39;00m \u001B[38;5;28;01mNone\u001B[39;00m\n",
      "\u001B[1;31mTypeError\u001B[0m: unsupported operand type(s) for -: 'datetime.datetime' and 'str'"
     ]
    }
   ],
   "source": [],
   "metadata": {
    "collapsed": false,
    "ExecuteTime": {
     "start_time": "2024-01-08T15:24:51.633092Z",
     "end_time": "2024-01-08T15:24:51.640092Z"
    }
   }
  },
  {
   "cell_type": "code",
   "execution_count": 19,
   "outputs": [
    {
     "name": "stdout",
     "output_type": "stream",
     "text": [
      "Requirement already satisfied: yfinance in c:\\users\\jared\\anaconda3\\lib\\site-packages (0.2.33)\n",
      "Collecting yfinance\n",
      "  Downloading yfinance-0.2.35-py2.py3-none-any.whl (72 kB)\n",
      "     ---------------------------------------- 72.2/72.2 kB 1.3 MB/s eta 0:00:00\n",
      "Requirement already satisfied: requests>=2.31 in c:\\users\\jared\\anaconda3\\lib\\site-packages (from yfinance) (2.31.0)\n",
      "Requirement already satisfied: pandas>=1.3.0 in c:\\users\\jared\\anaconda3\\lib\\site-packages (from yfinance) (1.4.4)\n",
      "Requirement already satisfied: appdirs>=1.4.4 in c:\\users\\jared\\anaconda3\\lib\\site-packages (from yfinance) (1.4.4)\n",
      "Requirement already satisfied: peewee>=3.16.2 in c:\\users\\jared\\anaconda3\\lib\\site-packages (from yfinance) (3.17.0)\n",
      "Requirement already satisfied: lxml>=4.9.1 in c:\\users\\jared\\anaconda3\\lib\\site-packages (from yfinance) (4.9.3)\n",
      "Requirement already satisfied: pytz>=2022.5 in c:\\users\\jared\\anaconda3\\lib\\site-packages (from yfinance) (2023.3.post1)\n",
      "Requirement already satisfied: numpy>=1.16.5 in c:\\users\\jared\\anaconda3\\lib\\site-packages (from yfinance) (1.26.3)\n",
      "Requirement already satisfied: frozendict>=2.3.4 in c:\\users\\jared\\anaconda3\\lib\\site-packages (from yfinance) (2.4.0)\n",
      "Requirement already satisfied: html5lib>=1.1 in c:\\users\\jared\\anaconda3\\lib\\site-packages (from yfinance) (1.1)\n",
      "Requirement already satisfied: beautifulsoup4>=4.11.1 in c:\\users\\jared\\anaconda3\\lib\\site-packages (from yfinance) (4.12.2)\n",
      "Requirement already satisfied: multitasking>=0.0.7 in c:\\users\\jared\\anaconda3\\lib\\site-packages (from yfinance) (0.0.11)\n",
      "Requirement already satisfied: soupsieve>1.2 in c:\\users\\jared\\anaconda3\\lib\\site-packages (from beautifulsoup4>=4.11.1->yfinance) (2.5)\n",
      "Requirement already satisfied: six>=1.9 in c:\\users\\jared\\anaconda3\\lib\\site-packages (from html5lib>=1.1->yfinance) (1.16.0)\n",
      "Requirement already satisfied: webencodings in c:\\users\\jared\\anaconda3\\lib\\site-packages (from html5lib>=1.1->yfinance) (0.5.1)\n",
      "Requirement already satisfied: python-dateutil>=2.8.1 in c:\\users\\jared\\anaconda3\\lib\\site-packages (from pandas>=1.3.0->yfinance) (2.8.1)\n",
      "Requirement already satisfied: certifi>=2017.4.17 in c:\\users\\jared\\anaconda3\\lib\\site-packages (from requests>=2.31->yfinance) (2023.11.17)\n",
      "Requirement already satisfied: urllib3<3,>=1.21.1 in c:\\users\\jared\\anaconda3\\lib\\site-packages (from requests>=2.31->yfinance) (1.26.18)\n",
      "Requirement already satisfied: charset-normalizer<4,>=2 in c:\\users\\jared\\anaconda3\\lib\\site-packages (from requests>=2.31->yfinance) (2.0.4)\n",
      "Requirement already satisfied: idna<4,>=2.5 in c:\\users\\jared\\anaconda3\\lib\\site-packages (from requests>=2.31->yfinance) (3.4)\n",
      "Installing collected packages: yfinance\n",
      "  Attempting uninstall: yfinance\n",
      "    Found existing installation: yfinance 0.2.33\n",
      "    Uninstalling yfinance-0.2.33:\n",
      "      Successfully uninstalled yfinance-0.2.33\n",
      "Successfully installed yfinance-0.2.35\n",
      "Note: you may need to restart the kernel to use updated packages.\n"
     ]
    }
   ],
   "source": [
    "pip install yfinance --upgrade"
   ],
   "metadata": {
    "collapsed": false,
    "ExecuteTime": {
     "start_time": "2024-01-08T15:24:26.766871Z",
     "end_time": "2024-01-08T15:24:30.281112Z"
    }
   }
  },
  {
   "cell_type": "code",
   "execution_count": 28,
   "outputs": [],
   "source": [
    "import yfinance as yf"
   ],
   "metadata": {
    "collapsed": false,
    "ExecuteTime": {
     "start_time": "2024-01-08T15:25:59.926492Z",
     "end_time": "2024-01-08T15:25:59.942490Z"
    }
   }
  },
  {
   "cell_type": "code",
   "execution_count": 37,
   "outputs": [
    {
     "data": {
      "text/plain": "<bound method TickerBase.get_news of yfinance.Ticker object <XOM>>"
     },
     "execution_count": 37,
     "metadata": {},
     "output_type": "execute_result"
    }
   ],
   "source": [
    "yf.Ticker('XOM').get_news"
   ],
   "metadata": {
    "collapsed": false,
    "ExecuteTime": {
     "start_time": "2024-01-08T15:27:36.640739Z",
     "end_time": "2024-01-08T15:27:36.651741Z"
    }
   }
  },
  {
   "cell_type": "code",
   "execution_count": 38,
   "outputs": [
    {
     "ename": "TypeError",
     "evalue": "unsupported operand type(s) for -: 'datetime.datetime' and 'str'",
     "output_type": "error",
     "traceback": [
      "\u001B[1;31m---------------------------------------------------------------------------\u001B[0m",
      "\u001B[1;31mTypeError\u001B[0m                                 Traceback (most recent call last)",
      "Cell \u001B[1;32mIn[38], line 1\u001B[0m\n\u001B[1;32m----> 1\u001B[0m \u001B[43myf\u001B[49m\u001B[38;5;241;43m.\u001B[39;49m\u001B[43mTicker\u001B[49m\u001B[43m(\u001B[49m\u001B[38;5;124;43m'\u001B[39;49m\u001B[38;5;124;43mXOM\u001B[39;49m\u001B[38;5;124;43m'\u001B[39;49m\u001B[43m)\u001B[49m\u001B[38;5;241;43m.\u001B[39;49m\u001B[43mnews\u001B[49m\n",
      "File \u001B[1;32m~\\anaconda3\\lib\\site-packages\\yfinance\\ticker.py:244\u001B[0m, in \u001B[0;36mTicker.news\u001B[1;34m(self)\u001B[0m\n\u001B[0;32m    242\u001B[0m \u001B[38;5;129m@property\u001B[39m\n\u001B[0;32m    243\u001B[0m \u001B[38;5;28;01mdef\u001B[39;00m \u001B[38;5;21mnews\u001B[39m(\u001B[38;5;28mself\u001B[39m):\n\u001B[1;32m--> 244\u001B[0m     \u001B[38;5;28;01mreturn\u001B[39;00m \u001B[38;5;28;43mself\u001B[39;49m\u001B[38;5;241;43m.\u001B[39;49m\u001B[43mget_news\u001B[49m\u001B[43m(\u001B[49m\u001B[43m)\u001B[49m\n",
      "File \u001B[1;32m~\\anaconda3\\lib\\site-packages\\yfinance\\base.py:2053\u001B[0m, in \u001B[0;36mTickerBase.get_news\u001B[1;34m(self, proxy)\u001B[0m\n\u001B[0;32m   2051\u001B[0m \u001B[38;5;66;03m# Getting data from json\u001B[39;00m\n\u001B[0;32m   2052\u001B[0m url \u001B[38;5;241m=\u001B[39m \u001B[38;5;124mf\u001B[39m\u001B[38;5;124m\"\u001B[39m\u001B[38;5;132;01m{\u001B[39;00m\u001B[38;5;28mself\u001B[39m\u001B[38;5;241m.\u001B[39m_base_url\u001B[38;5;132;01m}\u001B[39;00m\u001B[38;5;124m/v1/finance/search?q=\u001B[39m\u001B[38;5;132;01m{\u001B[39;00m\u001B[38;5;28mself\u001B[39m\u001B[38;5;241m.\u001B[39mticker\u001B[38;5;132;01m}\u001B[39;00m\u001B[38;5;124m\"\u001B[39m\n\u001B[1;32m-> 2053\u001B[0m data \u001B[38;5;241m=\u001B[39m \u001B[38;5;28;43mself\u001B[39;49m\u001B[38;5;241;43m.\u001B[39;49m\u001B[43m_data\u001B[49m\u001B[38;5;241;43m.\u001B[39;49m\u001B[43mcache_get\u001B[49m\u001B[43m(\u001B[49m\u001B[43murl\u001B[49m\u001B[38;5;241;43m=\u001B[39;49m\u001B[43murl\u001B[49m\u001B[43m,\u001B[49m\u001B[43m \u001B[49m\u001B[43mproxy\u001B[49m\u001B[38;5;241;43m=\u001B[39;49m\u001B[43mproxy\u001B[49m\u001B[43m)\u001B[49m\n\u001B[0;32m   2054\u001B[0m \u001B[38;5;28;01mif\u001B[39;00m \u001B[38;5;124m\"\u001B[39m\u001B[38;5;124mWill be right back\u001B[39m\u001B[38;5;124m\"\u001B[39m \u001B[38;5;129;01min\u001B[39;00m data\u001B[38;5;241m.\u001B[39mtext:\n\u001B[0;32m   2055\u001B[0m     \u001B[38;5;28;01mraise\u001B[39;00m \u001B[38;5;167;01mRuntimeError\u001B[39;00m(\u001B[38;5;124m\"\u001B[39m\u001B[38;5;124m*** YAHOO! FINANCE IS CURRENTLY DOWN! ***\u001B[39m\u001B[38;5;130;01m\\n\u001B[39;00m\u001B[38;5;124m\"\u001B[39m\n\u001B[0;32m   2056\u001B[0m                        \u001B[38;5;124m\"\u001B[39m\u001B[38;5;124mOur engineers are working quickly to resolve \u001B[39m\u001B[38;5;124m\"\u001B[39m\n\u001B[0;32m   2057\u001B[0m                        \u001B[38;5;124m\"\u001B[39m\u001B[38;5;124mthe issue. Thank you for your patience.\u001B[39m\u001B[38;5;124m\"\u001B[39m)\n",
      "File \u001B[1;32m~\\anaconda3\\lib\\site-packages\\yfinance\\data.py:27\u001B[0m, in \u001B[0;36mlru_cache_freezeargs.<locals>.wrapped\u001B[1;34m(*args, **kwargs)\u001B[0m\n\u001B[0;32m     25\u001B[0m args \u001B[38;5;241m=\u001B[39m \u001B[38;5;28mtuple\u001B[39m([\u001B[38;5;28mtuple\u001B[39m(arg) \u001B[38;5;28;01mif\u001B[39;00m \u001B[38;5;28misinstance\u001B[39m(arg, \u001B[38;5;28mlist\u001B[39m) \u001B[38;5;28;01melse\u001B[39;00m arg \u001B[38;5;28;01mfor\u001B[39;00m arg \u001B[38;5;129;01min\u001B[39;00m args])\n\u001B[0;32m     26\u001B[0m kwargs \u001B[38;5;241m=\u001B[39m {k: \u001B[38;5;28mtuple\u001B[39m(v) \u001B[38;5;28;01mif\u001B[39;00m \u001B[38;5;28misinstance\u001B[39m(v, \u001B[38;5;28mlist\u001B[39m) \u001B[38;5;28;01melse\u001B[39;00m v \u001B[38;5;28;01mfor\u001B[39;00m k, v \u001B[38;5;129;01min\u001B[39;00m kwargs\u001B[38;5;241m.\u001B[39mitems()}\n\u001B[1;32m---> 27\u001B[0m \u001B[38;5;28;01mreturn\u001B[39;00m func(\u001B[38;5;241m*\u001B[39margs, \u001B[38;5;241m*\u001B[39m\u001B[38;5;241m*\u001B[39mkwargs)\n",
      "File \u001B[1;32m~\\anaconda3\\lib\\site-packages\\yfinance\\data.py:387\u001B[0m, in \u001B[0;36mYfData.cache_get\u001B[1;34m(self, url, user_agent_headers, params, proxy, timeout)\u001B[0m\n\u001B[0;32m    384\u001B[0m \u001B[38;5;129m@lru_cache_freezeargs\u001B[39m\n\u001B[0;32m    385\u001B[0m \u001B[38;5;129m@lru_cache\u001B[39m(maxsize\u001B[38;5;241m=\u001B[39mcache_maxsize)\n\u001B[0;32m    386\u001B[0m \u001B[38;5;28;01mdef\u001B[39;00m \u001B[38;5;21mcache_get\u001B[39m(\u001B[38;5;28mself\u001B[39m, url, user_agent_headers\u001B[38;5;241m=\u001B[39m\u001B[38;5;28;01mNone\u001B[39;00m, params\u001B[38;5;241m=\u001B[39m\u001B[38;5;28;01mNone\u001B[39;00m, proxy\u001B[38;5;241m=\u001B[39m\u001B[38;5;28;01mNone\u001B[39;00m, timeout\u001B[38;5;241m=\u001B[39m\u001B[38;5;241m30\u001B[39m):\n\u001B[1;32m--> 387\u001B[0m     \u001B[38;5;28;01mreturn\u001B[39;00m \u001B[38;5;28;43mself\u001B[39;49m\u001B[38;5;241;43m.\u001B[39;49m\u001B[43mget\u001B[49m\u001B[43m(\u001B[49m\u001B[43murl\u001B[49m\u001B[43m,\u001B[49m\u001B[43m \u001B[49m\u001B[43muser_agent_headers\u001B[49m\u001B[43m,\u001B[49m\u001B[43m \u001B[49m\u001B[43mparams\u001B[49m\u001B[43m,\u001B[49m\u001B[43m \u001B[49m\u001B[43mproxy\u001B[49m\u001B[43m,\u001B[49m\u001B[43m \u001B[49m\u001B[43mtimeout\u001B[49m\u001B[43m)\u001B[49m\n",
      "File \u001B[1;32m~\\anaconda3\\lib\\site-packages\\yfinance\\utils.py:108\u001B[0m, in \u001B[0;36mlog_indent_decorator.<locals>.wrapper\u001B[1;34m(*args, **kwargs)\u001B[0m\n\u001B[0;32m    105\u001B[0m logger\u001B[38;5;241m.\u001B[39mdebug(\u001B[38;5;124mf\u001B[39m\u001B[38;5;124m'\u001B[39m\u001B[38;5;124mEntering \u001B[39m\u001B[38;5;132;01m{\u001B[39;00mfunc\u001B[38;5;241m.\u001B[39m\u001B[38;5;18m__name__\u001B[39m\u001B[38;5;132;01m}\u001B[39;00m\u001B[38;5;124m()\u001B[39m\u001B[38;5;124m'\u001B[39m)\n\u001B[0;32m    107\u001B[0m \u001B[38;5;28;01mwith\u001B[39;00m IndentationContext():\n\u001B[1;32m--> 108\u001B[0m     result \u001B[38;5;241m=\u001B[39m func(\u001B[38;5;241m*\u001B[39margs, \u001B[38;5;241m*\u001B[39m\u001B[38;5;241m*\u001B[39mkwargs)\n\u001B[0;32m    110\u001B[0m logger\u001B[38;5;241m.\u001B[39mdebug(\u001B[38;5;124mf\u001B[39m\u001B[38;5;124m'\u001B[39m\u001B[38;5;124mExiting \u001B[39m\u001B[38;5;132;01m{\u001B[39;00mfunc\u001B[38;5;241m.\u001B[39m\u001B[38;5;18m__name__\u001B[39m\u001B[38;5;132;01m}\u001B[39;00m\u001B[38;5;124m()\u001B[39m\u001B[38;5;124m'\u001B[39m)\n\u001B[0;32m    111\u001B[0m \u001B[38;5;28;01mreturn\u001B[39;00m result\n",
      "File \u001B[1;32m~\\anaconda3\\lib\\site-packages\\yfinance\\data.py:348\u001B[0m, in \u001B[0;36mYfData.get\u001B[1;34m(self, url, user_agent_headers, params, proxy, timeout)\u001B[0m\n\u001B[0;32m    345\u001B[0m \u001B[38;5;28;01mif\u001B[39;00m \u001B[38;5;124m'\u001B[39m\u001B[38;5;124mcrumb\u001B[39m\u001B[38;5;124m'\u001B[39m \u001B[38;5;129;01min\u001B[39;00m params:\n\u001B[0;32m    346\u001B[0m     \u001B[38;5;28;01mraise\u001B[39;00m \u001B[38;5;167;01mException\u001B[39;00m(\u001B[38;5;124m\"\u001B[39m\u001B[38;5;124mDon\u001B[39m\u001B[38;5;124m'\u001B[39m\u001B[38;5;124mt manually add \u001B[39m\u001B[38;5;124m'\u001B[39m\u001B[38;5;124mcrumb\u001B[39m\u001B[38;5;124m'\u001B[39m\u001B[38;5;124m to params dict, let data.py handle it\u001B[39m\u001B[38;5;124m\"\u001B[39m)\n\u001B[1;32m--> 348\u001B[0m cookie, crumb, strategy \u001B[38;5;241m=\u001B[39m \u001B[38;5;28;43mself\u001B[39;49m\u001B[38;5;241;43m.\u001B[39;49m\u001B[43m_get_cookie_and_crumb\u001B[49m\u001B[43m(\u001B[49m\u001B[43m)\u001B[49m\n\u001B[0;32m    349\u001B[0m \u001B[38;5;28;01mif\u001B[39;00m crumb \u001B[38;5;129;01mis\u001B[39;00m \u001B[38;5;129;01mnot\u001B[39;00m \u001B[38;5;28;01mNone\u001B[39;00m:\n\u001B[0;32m    350\u001B[0m     crumbs \u001B[38;5;241m=\u001B[39m {\u001B[38;5;124m'\u001B[39m\u001B[38;5;124mcrumb\u001B[39m\u001B[38;5;124m'\u001B[39m: crumb}\n",
      "File \u001B[1;32m~\\anaconda3\\lib\\site-packages\\yfinance\\utils.py:108\u001B[0m, in \u001B[0;36mlog_indent_decorator.<locals>.wrapper\u001B[1;34m(*args, **kwargs)\u001B[0m\n\u001B[0;32m    105\u001B[0m logger\u001B[38;5;241m.\u001B[39mdebug(\u001B[38;5;124mf\u001B[39m\u001B[38;5;124m'\u001B[39m\u001B[38;5;124mEntering \u001B[39m\u001B[38;5;132;01m{\u001B[39;00mfunc\u001B[38;5;241m.\u001B[39m\u001B[38;5;18m__name__\u001B[39m\u001B[38;5;132;01m}\u001B[39;00m\u001B[38;5;124m()\u001B[39m\u001B[38;5;124m'\u001B[39m)\n\u001B[0;32m    107\u001B[0m \u001B[38;5;28;01mwith\u001B[39;00m IndentationContext():\n\u001B[1;32m--> 108\u001B[0m     result \u001B[38;5;241m=\u001B[39m func(\u001B[38;5;241m*\u001B[39margs, \u001B[38;5;241m*\u001B[39m\u001B[38;5;241m*\u001B[39mkwargs)\n\u001B[0;32m    110\u001B[0m logger\u001B[38;5;241m.\u001B[39mdebug(\u001B[38;5;124mf\u001B[39m\u001B[38;5;124m'\u001B[39m\u001B[38;5;124mExiting \u001B[39m\u001B[38;5;132;01m{\u001B[39;00mfunc\u001B[38;5;241m.\u001B[39m\u001B[38;5;18m__name__\u001B[39m\u001B[38;5;132;01m}\u001B[39;00m\u001B[38;5;124m()\u001B[39m\u001B[38;5;124m'\u001B[39m)\n\u001B[0;32m    111\u001B[0m \u001B[38;5;28;01mreturn\u001B[39;00m result\n",
      "File \u001B[1;32m~\\anaconda3\\lib\\site-packages\\yfinance\\data.py:324\u001B[0m, in \u001B[0;36mYfData._get_cookie_and_crumb\u001B[1;34m(self, proxy, timeout)\u001B[0m\n\u001B[0;32m    321\u001B[0m         cookie, crumb \u001B[38;5;241m=\u001B[39m \u001B[38;5;28mself\u001B[39m\u001B[38;5;241m.\u001B[39m_get_cookie_and_crumb_basic(proxy, timeout)\n\u001B[0;32m    322\u001B[0m \u001B[38;5;28;01melse\u001B[39;00m:\n\u001B[0;32m    323\u001B[0m     \u001B[38;5;66;03m# Fallback strategy\u001B[39;00m\n\u001B[1;32m--> 324\u001B[0m     cookie, crumb \u001B[38;5;241m=\u001B[39m \u001B[38;5;28;43mself\u001B[39;49m\u001B[38;5;241;43m.\u001B[39;49m\u001B[43m_get_cookie_and_crumb_basic\u001B[49m\u001B[43m(\u001B[49m\u001B[43mproxy\u001B[49m\u001B[43m,\u001B[49m\u001B[43m \u001B[49m\u001B[43mtimeout\u001B[49m\u001B[43m)\u001B[49m\n\u001B[0;32m    325\u001B[0m     \u001B[38;5;28;01mif\u001B[39;00m cookie \u001B[38;5;129;01mis\u001B[39;00m \u001B[38;5;28;01mNone\u001B[39;00m \u001B[38;5;129;01mor\u001B[39;00m crumb \u001B[38;5;129;01mis\u001B[39;00m \u001B[38;5;28;01mNone\u001B[39;00m:\n\u001B[0;32m    326\u001B[0m         \u001B[38;5;66;03m# Fail\u001B[39;00m\n\u001B[0;32m    327\u001B[0m         \u001B[38;5;28mself\u001B[39m\u001B[38;5;241m.\u001B[39m_set_cookie_strategy(\u001B[38;5;124m'\u001B[39m\u001B[38;5;124mcsrf\u001B[39m\u001B[38;5;124m'\u001B[39m, have_lock\u001B[38;5;241m=\u001B[39m\u001B[38;5;28;01mTrue\u001B[39;00m)\n",
      "File \u001B[1;32m~\\anaconda3\\lib\\site-packages\\yfinance\\utils.py:108\u001B[0m, in \u001B[0;36mlog_indent_decorator.<locals>.wrapper\u001B[1;34m(*args, **kwargs)\u001B[0m\n\u001B[0;32m    105\u001B[0m logger\u001B[38;5;241m.\u001B[39mdebug(\u001B[38;5;124mf\u001B[39m\u001B[38;5;124m'\u001B[39m\u001B[38;5;124mEntering \u001B[39m\u001B[38;5;132;01m{\u001B[39;00mfunc\u001B[38;5;241m.\u001B[39m\u001B[38;5;18m__name__\u001B[39m\u001B[38;5;132;01m}\u001B[39;00m\u001B[38;5;124m()\u001B[39m\u001B[38;5;124m'\u001B[39m)\n\u001B[0;32m    107\u001B[0m \u001B[38;5;28;01mwith\u001B[39;00m IndentationContext():\n\u001B[1;32m--> 108\u001B[0m     result \u001B[38;5;241m=\u001B[39m func(\u001B[38;5;241m*\u001B[39margs, \u001B[38;5;241m*\u001B[39m\u001B[38;5;241m*\u001B[39mkwargs)\n\u001B[0;32m    110\u001B[0m logger\u001B[38;5;241m.\u001B[39mdebug(\u001B[38;5;124mf\u001B[39m\u001B[38;5;124m'\u001B[39m\u001B[38;5;124mExiting \u001B[39m\u001B[38;5;132;01m{\u001B[39;00mfunc\u001B[38;5;241m.\u001B[39m\u001B[38;5;18m__name__\u001B[39m\u001B[38;5;132;01m}\u001B[39;00m\u001B[38;5;124m()\u001B[39m\u001B[38;5;124m'\u001B[39m)\n\u001B[0;32m    111\u001B[0m \u001B[38;5;28;01mreturn\u001B[39;00m result\n",
      "File \u001B[1;32m~\\anaconda3\\lib\\site-packages\\yfinance\\data.py:213\u001B[0m, in \u001B[0;36mYfData._get_cookie_and_crumb_basic\u001B[1;34m(self, proxy, timeout)\u001B[0m\n\u001B[0;32m    211\u001B[0m \u001B[38;5;129m@utils\u001B[39m\u001B[38;5;241m.\u001B[39mlog_indent_decorator\n\u001B[0;32m    212\u001B[0m \u001B[38;5;28;01mdef\u001B[39;00m \u001B[38;5;21m_get_cookie_and_crumb_basic\u001B[39m(\u001B[38;5;28mself\u001B[39m, proxy, timeout):\n\u001B[1;32m--> 213\u001B[0m     cookie \u001B[38;5;241m=\u001B[39m \u001B[38;5;28;43mself\u001B[39;49m\u001B[38;5;241;43m.\u001B[39;49m\u001B[43m_get_cookie_basic\u001B[49m\u001B[43m(\u001B[49m\u001B[43mproxy\u001B[49m\u001B[43m,\u001B[49m\u001B[43m \u001B[49m\u001B[43mtimeout\u001B[49m\u001B[43m)\u001B[49m\n\u001B[0;32m    214\u001B[0m     crumb \u001B[38;5;241m=\u001B[39m \u001B[38;5;28mself\u001B[39m\u001B[38;5;241m.\u001B[39m_get_crumb_basic(proxy, timeout)\n\u001B[0;32m    215\u001B[0m     \u001B[38;5;28;01mreturn\u001B[39;00m cookie, crumb\n",
      "File \u001B[1;32m~\\anaconda3\\lib\\site-packages\\yfinance\\data.py:156\u001B[0m, in \u001B[0;36mYfData._get_cookie_basic\u001B[1;34m(self, proxy, timeout)\u001B[0m\n\u001B[0;32m    153\u001B[0m     utils\u001B[38;5;241m.\u001B[39mget_yf_logger()\u001B[38;5;241m.\u001B[39mdebug(\u001B[38;5;124m'\u001B[39m\u001B[38;5;124mreusing cookie\u001B[39m\u001B[38;5;124m'\u001B[39m)\n\u001B[0;32m    154\u001B[0m     \u001B[38;5;28;01mreturn\u001B[39;00m \u001B[38;5;28mself\u001B[39m\u001B[38;5;241m.\u001B[39m_cookie\n\u001B[1;32m--> 156\u001B[0m \u001B[38;5;28mself\u001B[39m\u001B[38;5;241m.\u001B[39m_cookie \u001B[38;5;241m=\u001B[39m \u001B[38;5;28;43mself\u001B[39;49m\u001B[38;5;241;43m.\u001B[39;49m\u001B[43m_load_cookie_basic\u001B[49m\u001B[43m(\u001B[49m\u001B[43m)\u001B[49m\n\u001B[0;32m    157\u001B[0m \u001B[38;5;28;01mif\u001B[39;00m \u001B[38;5;28mself\u001B[39m\u001B[38;5;241m.\u001B[39m_cookie \u001B[38;5;129;01mis\u001B[39;00m \u001B[38;5;129;01mnot\u001B[39;00m \u001B[38;5;28;01mNone\u001B[39;00m:\n\u001B[0;32m    158\u001B[0m     \u001B[38;5;28;01mreturn\u001B[39;00m \u001B[38;5;28mself\u001B[39m\u001B[38;5;241m.\u001B[39m_cookie\n",
      "File \u001B[1;32m~\\anaconda3\\lib\\site-packages\\yfinance\\data.py:142\u001B[0m, in \u001B[0;36mYfData._load_cookie_basic\u001B[1;34m(self)\u001B[0m\n\u001B[0;32m    141\u001B[0m \u001B[38;5;28;01mdef\u001B[39;00m \u001B[38;5;21m_load_cookie_basic\u001B[39m(\u001B[38;5;28mself\u001B[39m):\n\u001B[1;32m--> 142\u001B[0m     cookie_dict \u001B[38;5;241m=\u001B[39m \u001B[43mcache\u001B[49m\u001B[38;5;241;43m.\u001B[39;49m\u001B[43mget_cookie_cache\u001B[49m\u001B[43m(\u001B[49m\u001B[43m)\u001B[49m\u001B[38;5;241;43m.\u001B[39;49m\u001B[43mlookup\u001B[49m\u001B[43m(\u001B[49m\u001B[38;5;124;43m'\u001B[39;49m\u001B[38;5;124;43mbasic\u001B[39;49m\u001B[38;5;124;43m'\u001B[39;49m\u001B[43m)\u001B[49m\n\u001B[0;32m    143\u001B[0m     \u001B[38;5;28;01mif\u001B[39;00m cookie_dict \u001B[38;5;129;01mis\u001B[39;00m \u001B[38;5;28;01mNone\u001B[39;00m:\n\u001B[0;32m    144\u001B[0m         \u001B[38;5;28;01mreturn\u001B[39;00m \u001B[38;5;28;01mNone\u001B[39;00m\n",
      "File \u001B[1;32m~\\anaconda3\\lib\\site-packages\\yfinance\\cache.py:362\u001B[0m, in \u001B[0;36m_CookieCache.lookup\u001B[1;34m(self, strategy)\u001B[0m\n\u001B[0;32m    360\u001B[0m     data \u001B[38;5;241m=\u001B[39m  _CookieSchema\u001B[38;5;241m.\u001B[39mget(_CookieSchema\u001B[38;5;241m.\u001B[39mstrategy \u001B[38;5;241m==\u001B[39m strategy)\n\u001B[0;32m    361\u001B[0m     cookie \u001B[38;5;241m=\u001B[39m _pkl\u001B[38;5;241m.\u001B[39mloads(data\u001B[38;5;241m.\u001B[39mcookie_bytes)\n\u001B[1;32m--> 362\u001B[0m     \u001B[38;5;28;01mreturn\u001B[39;00m {\u001B[38;5;124m'\u001B[39m\u001B[38;5;124mcookie\u001B[39m\u001B[38;5;124m'\u001B[39m:cookie, \u001B[38;5;124m'\u001B[39m\u001B[38;5;124mage\u001B[39m\u001B[38;5;124m'\u001B[39m:\u001B[43m_datetime\u001B[49m\u001B[38;5;241;43m.\u001B[39;49m\u001B[43mdatetime\u001B[49m\u001B[38;5;241;43m.\u001B[39;49m\u001B[43mnow\u001B[49m\u001B[43m(\u001B[49m\u001B[43m)\u001B[49m\u001B[38;5;241;43m-\u001B[39;49m\u001B[43mdata\u001B[49m\u001B[38;5;241;43m.\u001B[39;49m\u001B[43mfetch_date\u001B[49m}\n\u001B[0;32m    363\u001B[0m \u001B[38;5;28;01mexcept\u001B[39;00m _CookieSchema\u001B[38;5;241m.\u001B[39mDoesNotExist:\n\u001B[0;32m    364\u001B[0m     \u001B[38;5;28;01mreturn\u001B[39;00m \u001B[38;5;28;01mNone\u001B[39;00m\n",
      "\u001B[1;31mTypeError\u001B[0m: unsupported operand type(s) for -: 'datetime.datetime' and 'str'"
     ]
    }
   ],
   "source": [
    "yf.Ticker('XOM').news"
   ],
   "metadata": {
    "collapsed": false
   }
  },
  {
   "cell_type": "code",
   "execution_count": 39,
   "outputs": [
    {
     "name": "stdout",
     "output_type": "stream",
     "text": [
      "[*********************100%%**********************]  1 of 1 completed"
     ]
    },
    {
     "name": "stderr",
     "output_type": "stream",
     "text": [
      "\n",
      "1 Failed download:\n",
      "['XOM']: Exception('%ticker%: No price data found, symbol may be delisted (1d 1925-01-31 -> 2024-01-08)')\n"
     ]
    },
    {
     "name": "stdout",
     "output_type": "stream",
     "text": [
      "\n"
     ]
    },
    {
     "ename": "AttributeError",
     "evalue": "'DataFrame' object has no attribute 'news'",
     "output_type": "error",
     "traceback": [
      "\u001B[1;31m---------------------------------------------------------------------------\u001B[0m",
      "\u001B[1;31mAttributeError\u001B[0m                            Traceback (most recent call last)",
      "\u001B[1;32m~\\AppData\\Local\\Temp\\ipykernel_36380\\3437834657.py\u001B[0m in \u001B[0;36m?\u001B[1;34m()\u001B[0m\n\u001B[1;32m----> 1\u001B[1;33m \u001B[0myf\u001B[0m\u001B[1;33m.\u001B[0m\u001B[0mdownload\u001B[0m\u001B[1;33m(\u001B[0m\u001B[1;34m'XOM'\u001B[0m\u001B[1;33m)\u001B[0m\u001B[1;33m.\u001B[0m\u001B[0mnews\u001B[0m\u001B[1;33m\u001B[0m\u001B[1;33m\u001B[0m\u001B[0m\n\u001B[0m",
      "\u001B[1;32m~\\anaconda3\\lib\\site-packages\\pandas\\core\\generic.py\u001B[0m in \u001B[0;36m?\u001B[1;34m(self, name)\u001B[0m\n\u001B[0;32m   5571\u001B[0m             \u001B[1;32mand\u001B[0m \u001B[0mname\u001B[0m \u001B[1;32mnot\u001B[0m \u001B[1;32min\u001B[0m \u001B[0mself\u001B[0m\u001B[1;33m.\u001B[0m\u001B[0m_accessors\u001B[0m\u001B[1;33m\u001B[0m\u001B[1;33m\u001B[0m\u001B[0m\n\u001B[0;32m   5572\u001B[0m             \u001B[1;32mand\u001B[0m \u001B[0mself\u001B[0m\u001B[1;33m.\u001B[0m\u001B[0m_info_axis\u001B[0m\u001B[1;33m.\u001B[0m\u001B[0m_can_hold_identifiers_and_holds_name\u001B[0m\u001B[1;33m(\u001B[0m\u001B[0mname\u001B[0m\u001B[1;33m)\u001B[0m\u001B[1;33m\u001B[0m\u001B[1;33m\u001B[0m\u001B[0m\n\u001B[0;32m   5573\u001B[0m         ):\n\u001B[0;32m   5574\u001B[0m             \u001B[1;32mreturn\u001B[0m \u001B[0mself\u001B[0m\u001B[1;33m[\u001B[0m\u001B[0mname\u001B[0m\u001B[1;33m]\u001B[0m\u001B[1;33m\u001B[0m\u001B[1;33m\u001B[0m\u001B[0m\n\u001B[1;32m-> 5575\u001B[1;33m         \u001B[1;32mreturn\u001B[0m \u001B[0mobject\u001B[0m\u001B[1;33m.\u001B[0m\u001B[0m__getattribute__\u001B[0m\u001B[1;33m(\u001B[0m\u001B[0mself\u001B[0m\u001B[1;33m,\u001B[0m \u001B[0mname\u001B[0m\u001B[1;33m)\u001B[0m\u001B[1;33m\u001B[0m\u001B[1;33m\u001B[0m\u001B[0m\n\u001B[0m",
      "\u001B[1;31mAttributeError\u001B[0m: 'DataFrame' object has no attribute 'news'"
     ]
    }
   ],
   "source": [
    "yf.download('XOM').news"
   ],
   "metadata": {
    "collapsed": false
   }
  },
  {
   "cell_type": "code",
   "execution_count": null,
   "outputs": [],
   "source": [],
   "metadata": {
    "collapsed": false
   }
  }
 ],
 "metadata": {
  "kernelspec": {
   "display_name": "Python 3",
   "language": "python",
   "name": "python3"
  },
  "language_info": {
   "codemirror_mode": {
    "name": "ipython",
    "version": 2
   },
   "file_extension": ".py",
   "mimetype": "text/x-python",
   "name": "python",
   "nbconvert_exporter": "python",
   "pygments_lexer": "ipython2",
   "version": "2.7.6"
  }
 },
 "nbformat": 4,
 "nbformat_minor": 0
}
